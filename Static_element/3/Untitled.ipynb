{
 "cells": [
  {
   "cell_type": "code",
   "execution_count": 1,
   "metadata": {},
   "outputs": [
    {
     "name": "stdout",
     "output_type": "stream",
     "text": [
      "AVG = 39083.51\n",
      "MEDIAN = 32779.5\n",
      "21 71553\n",
      "33 50135\n",
      "53 28232\n"
     ]
    },
    {
     "name": "stderr",
     "output_type": "stream",
     "text": [
      "/home/hanmask/.local/lib/python3.10/site-packages/seaborn/distributions.py:2619: FutureWarning: `distplot` is a deprecated function and will be removed in a future version. Please adapt your code to use either `displot` (a figure-level function with similar flexibility) or `histplot` (an axes-level function for histograms).\n",
      "  warnings.warn(msg, FutureWarning)\n"
     ]
    },
    {
     "data": {
      "image/png": "[encoded data removed]",
      "text/plain": [
       "<Figure size 432x288 with 1 Axes>"
      ]
     },
     "metadata": {},
     "output_type": "display_data"
    }
   ],
   "source": [
    "import seaborn as sns\n",
    "import numpy as np\n",
    "import pandas as pd\n",
    "from pandas.core.indexes.base import Index\n",
    "from sklearn.cluster import KMeans\n",
    "from sklearn.neighbors import KNeighborsClassifier\n",
    "from scipy.spatial.distance import squareform, pdist\n",
    "data = pd.read_csv(\"/home/hanmask/home/openedu/Static_element/3/report.csv\",\n",
    "                   delimiter=',')\n",
    "list_delete = [\"Орловская область\", \"Нижегородская область\", \"Новосибирская область\"]\n",
    "for i in list_delete:\n",
    "    data.drop(data.index[(data[\"REGION_NAME\"] == i)], axis=0, inplace=True)\n",
    " \n",
    "COUNT = len(data.index)\n",
    "AVG = data[\"SALARY\"].mean()\n",
    "print(f\"AVG = {round(AVG,2)}\")\n",
    "MEDIAN = data[\"SALARY\"].median()\n",
    "print(f\"MEDIAN = {MEDIAN}\")\n",
    "VARIANCE = data[\"SALARY\"].var()\n",
    "#print(VARIANCE\n",
    "LIST_X = data[\"SALARY\"].to_list()\n",
    "answer_list = [21,33,53]\n",
    "for i in range(len(LIST_X)):\n",
    "    if i+1 in answer_list:\n",
    "        print(f\"{i+1}\",LIST_X[i])\n",
    "sns.set()\n",
    "sns_plot = sns.distplot(data['SALARY'])\n",
    "fig = sns_plot.get_figure()\n"
   ]
  },
  {
   "cell_type": "code",
   "execution_count": 2,
   "metadata": {},
   "outputs": [],
   "source": [
    "import seaborn as sns\n",
    "import numpy as np\n",
    "import pandas as pd\n",
    "from pandas.core.indexes.base import Index\n",
    "from sklearn.cluster import KMeans\n",
    "from sklearn.neighbors import KNeighborsClassifier\n",
    "from scipy.spatial.distance import squareform, pdist\n",
    "data = pd.read_csv(\"/home/hanmask/home/openedu/Static_element/3/report.csv\",\n",
    "                   delimiter=',')\n",
    "list_delete = [\"Орловская область\", \"Нижегородская область\", \"Новосибирская область\"]\n",
    "for i in list_delete:\n",
    "    data.drop(data.index[(data[\"REGION_NAME\"] == i)], axis=0, inplace=True)"
   ]
  },
  {
   "cell_type": "code",
   "execution_count": null,
   "metadata": {},
   "outputs": [],
   "source": []
  }
 ],
 "metadata": {
  "kernelspec": {
   "display_name": "Python 3 (ipykernel)",
   "language": "python",
   "name": "python3"
  },
  "language_info": {
   "codemirror_mode": {
    "name": "ipython",
    "version": 3
   },
   "file_extension": ".py",
   "mimetype": "text/x-python",
   "name": "python",
   "nbconvert_exporter": "python",
   "pygments_lexer": "ipython3",
   "version": "3.10.0"
  }
 },
 "nbformat": 4,
 "nbformat_minor": 4
}
